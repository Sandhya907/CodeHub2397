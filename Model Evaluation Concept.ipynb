{
 "cells": [
  {
   "cell_type": "markdown",
   "id": "f05fec01-a422-48fe-8e39-bac4512129b0",
   "metadata": {},
   "source": [
    "### Core Concept"
   ]
  },
  {
   "cell_type": "markdown",
   "id": "ff0fef22-2375-4ea8-a7e9-194b586c6de7",
   "metadata": {},
   "source": [
    "### Model Evaluation : Evaluation Metrics and Cross-Validation Methods"
   ]
  },
  {
   "cell_type": "markdown",
   "id": "36f94574-3df3-4806-8935-a688c1ebf742",
   "metadata": {},
   "source": [
    "### Introduction\n",
    "- Model Evaluation is critical step in machine learning pipeline to assess the performace of a model and ensure\n",
    "- Choosing the right evaluation metric and cross-validation method depends on type of problem being addressed"
   ]
  },
  {
   "cell_type": "markdown",
   "id": "d7835b67-c8a2-447a-991f-5c94ee91d0f5",
   "metadata": {},
   "source": [
    "### Agenda \n",
    "-Exploring common evaluation metrics\n",
    "-Cross-validation techniques\n",
    "-Real time scenarios to determine the best practices for model evaluation "
   ]
  },
  {
   "cell_type": "markdown",
   "id": "0d1d05ab-6c90-44b2-9f6b-dc3521d2bb3c",
   "metadata": {},
   "source": [
    "### Evalution Metrics \n"
   ]
  },
  {
   "cell_type": "markdown",
   "id": "24d3ce19-f88d-4031-8d5c-aaba55237bf5",
   "metadata": {},
   "source": [
    "### 1. Classification Metrics \n",
    "- Accuracy \n",
    "    -Definition : Ratio of correctly predicted instances to the total instances\n",
    "    - When to use: When the dataset is balanced [Equal number of each class] -> Balanced (unbiased) which is equal number of samples Vs. Biased Dataset "
   ]
  },
  {
   "cell_type": "code",
   "execution_count": 4,
   "id": "c057eedc-5247-4e35-9e4d-6047cb0c8b53",
   "metadata": {},
   "outputs": [],
   "source": [
    "from sklearn.metrics import accuracy_score\n",
    "from sklearn.datasets import make_classification\n",
    "from sklearn.ensemble import RandomForestClassifier\n",
    "from sklearn.model_selection import train_test_split"
   ]
  },
  {
   "cell_type": "code",
   "execution_count": 10,
   "id": "03751775-acd9-4aa8-be87-270b5a82ca35",
   "metadata": {},
   "outputs": [],
   "source": [
    "# Generating Synthetic Data\n",
    "X, y = make_classification(n_samples=1000, n_features=10, random_state=42)"
   ]
  },
  {
   "cell_type": "code",
   "execution_count": 6,
   "id": "bef0b017-aa4c-4601-bfaa-703e54e37c09",
   "metadata": {},
   "outputs": [
    {
     "data": {
      "text/plain": [
       "array([[ 0.96479937, -0.06644898,  0.98676805, ..., -1.2101605 ,\n",
       "        -0.62807677,  1.22727382],\n",
       "       [-0.91651053, -0.56639459, -1.00861409, ..., -0.98453405,\n",
       "         0.36389642,  0.20947008],\n",
       "       [-0.10948373, -0.43277388, -0.4576493 , ..., -0.2463834 ,\n",
       "        -1.05814521, -0.29737608],\n",
       "       ...,\n",
       "       [ 1.67463306,  1.75493307,  1.58615382, ...,  0.69272276,\n",
       "        -1.50384972,  0.22526412],\n",
       "       [-0.77860873, -0.83568901, -0.19484228, ..., -0.49735437,\n",
       "         2.47213818,  0.86718741],\n",
       "       [ 0.24845351, -1.0034389 ,  0.36046013, ...,  0.77323999,\n",
       "         0.1857344 ,  1.41641179]])"
      ]
     },
     "execution_count": 6,
     "metadata": {},
     "output_type": "execute_result"
    }
   ],
   "source": [
    "X"
   ]
  },
  {
   "cell_type": "code",
   "execution_count": 7,
   "id": "a0b71989-0593-43c8-8cb5-0246f252a8e2",
   "metadata": {},
   "outputs": [
    {
     "data": {
      "text/plain": [
       "array([0, 1, 1, 0, 1, 0, 0, 1, 1, 0, 0, 1, 0, 1, 1, 1, 0, 1, 1, 1, 0, 0,\n",
       "       1, 1, 0, 0, 0, 0, 1, 1, 1, 0, 0, 1, 0, 0, 0, 0, 1, 1, 0, 1, 0, 1,\n",
       "       0, 0, 0, 1, 1, 1, 1, 0, 0, 0, 1, 0, 0, 1, 0, 1, 0, 1, 1, 1, 1, 0,\n",
       "       0, 0, 1, 1, 1, 0, 1, 1, 0, 1, 1, 0, 1, 0, 1, 0, 1, 1, 1, 0, 1, 1,\n",
       "       0, 1, 0, 0, 0, 0, 1, 0, 1, 1, 0, 1, 0, 1, 0, 1, 0, 1, 0, 0, 1, 0,\n",
       "       0, 1, 1, 0, 0, 0, 1, 0, 1, 0, 0, 1, 0, 1, 1, 1, 1, 1, 0, 0, 0, 0,\n",
       "       0, 0, 0, 1, 0, 0, 0, 1, 1, 0, 1, 1, 0, 0, 1, 1, 0, 1, 1, 0, 1, 1,\n",
       "       0, 0, 1, 1, 0, 1, 1, 1, 0, 0, 1, 1, 0, 1, 1, 1, 1, 1, 0, 1, 0, 0,\n",
       "       0, 1, 0, 1, 1, 0, 0, 1, 1, 0, 0, 1, 1, 1, 0, 0, 1, 1, 0, 0, 1, 0,\n",
       "       0, 0, 0, 0, 0, 0, 1, 0, 0, 1, 1, 1, 0, 1, 0, 1, 1, 0, 0, 1, 0, 1,\n",
       "       0, 1, 1, 0, 0, 1, 1, 0, 0, 0, 1, 0, 1, 1, 0, 1, 1, 1, 1, 1, 1, 1,\n",
       "       0, 0, 0, 1, 1, 0, 1, 1, 0, 0, 0, 0, 0, 1, 0, 1, 1, 1, 1, 1, 1, 0,\n",
       "       0, 1, 1, 1, 1, 0, 1, 0, 0, 1, 1, 1, 0, 1, 1, 0, 1, 0, 1, 1, 1, 1,\n",
       "       1, 1, 0, 0, 0, 1, 1, 1, 1, 0, 1, 1, 1, 0, 1, 1, 1, 0, 0, 1, 1, 1,\n",
       "       0, 1, 1, 1, 0, 1, 1, 0, 1, 0, 1, 1, 0, 0, 1, 1, 1, 0, 1, 1, 0, 0,\n",
       "       0, 1, 0, 1, 0, 1, 0, 0, 1, 1, 1, 1, 0, 0, 0, 0, 1, 0, 0, 1, 1, 0,\n",
       "       0, 1, 0, 0, 1, 0, 1, 1, 1, 0, 0, 1, 0, 0, 1, 0, 0, 0, 1, 1, 0, 1,\n",
       "       0, 1, 0, 1, 0, 0, 1, 0, 1, 1, 0, 0, 1, 1, 1, 0, 1, 0, 0, 0, 0, 0,\n",
       "       0, 0, 0, 1, 0, 0, 0, 0, 0, 0, 1, 1, 0, 0, 0, 0, 1, 0, 1, 0, 1, 0,\n",
       "       1, 0, 0, 1, 1, 0, 1, 1, 0, 0, 1, 1, 1, 1, 0, 1, 1, 1, 1, 0, 0, 1,\n",
       "       0, 0, 0, 0, 1, 1, 0, 0, 1, 0, 1, 1, 0, 0, 0, 1, 0, 0, 1, 0, 0, 1,\n",
       "       0, 0, 0, 1, 0, 0, 1, 1, 0, 0, 0, 1, 1, 1, 0, 1, 0, 0, 0, 0, 1, 0,\n",
       "       1, 1, 1, 1, 1, 0, 0, 0, 0, 1, 1, 1, 1, 1, 1, 0, 1, 1, 1, 0, 1, 1,\n",
       "       0, 1, 0, 1, 1, 0, 0, 0, 1, 1, 1, 0, 0, 1, 1, 0, 0, 0, 0, 0, 1, 1,\n",
       "       0, 1, 0, 0, 1, 1, 0, 1, 0, 1, 1, 0, 1, 0, 0, 1, 0, 0, 0, 0, 0, 0,\n",
       "       0, 0, 1, 0, 0, 1, 0, 1, 1, 1, 1, 1, 1, 1, 0, 0, 1, 1, 1, 0, 0, 1,\n",
       "       1, 0, 1, 0, 1, 1, 0, 0, 1, 1, 1, 1, 1, 1, 0, 1, 0, 1, 1, 1, 1, 0,\n",
       "       0, 0, 0, 1, 1, 1, 1, 1, 0, 1, 1, 1, 0, 1, 0, 0, 0, 1, 1, 1, 1, 1,\n",
       "       0, 1, 0, 0, 0, 0, 0, 0, 1, 0, 0, 0, 1, 0, 0, 1, 1, 0, 0, 0, 1, 0,\n",
       "       1, 0, 0, 1, 1, 1, 0, 0, 0, 1, 1, 0, 0, 1, 1, 1, 0, 0, 1, 1, 1, 0,\n",
       "       1, 0, 1, 1, 0, 1, 0, 0, 0, 1, 1, 0, 1, 0, 1, 0, 0, 1, 1, 1, 1, 0,\n",
       "       1, 0, 1, 0, 1, 1, 0, 0, 1, 0, 1, 1, 1, 0, 1, 0, 1, 0, 0, 0, 0, 0,\n",
       "       1, 1, 1, 0, 1, 1, 0, 1, 1, 0, 0, 1, 1, 1, 1, 1, 0, 0, 0, 0, 1, 0,\n",
       "       0, 1, 0, 1, 1, 1, 1, 0, 0, 0, 1, 1, 0, 0, 1, 0, 1, 0, 0, 0, 1, 1,\n",
       "       0, 1, 0, 0, 0, 0, 0, 0, 0, 0, 1, 0, 1, 1, 0, 0, 0, 0, 0, 1, 1, 1,\n",
       "       1, 0, 0, 0, 0, 0, 0, 1, 0, 1, 1, 0, 1, 1, 0, 1, 0, 1, 1, 0, 0, 0,\n",
       "       0, 0, 1, 1, 1, 0, 0, 1, 1, 1, 1, 0, 0, 0, 1, 0, 0, 1, 1, 0, 0, 0,\n",
       "       0, 0, 1, 0, 1, 1, 0, 0, 0, 1, 1, 0, 0, 0, 1, 0, 1, 1, 1, 0, 0, 0,\n",
       "       0, 1, 0, 1, 0, 0, 1, 0, 0, 0, 1, 0, 1, 0, 0, 0, 0, 0, 0, 1, 1, 0,\n",
       "       0, 0, 1, 1, 1, 0, 1, 0, 0, 1, 0, 1, 1, 0, 1, 1, 1, 1, 0, 0, 1, 1,\n",
       "       1, 0, 0, 1, 1, 0, 1, 1, 0, 1, 1, 0, 1, 0, 0, 1, 1, 0, 1, 0, 0, 1,\n",
       "       0, 0, 1, 1, 1, 0, 1, 1, 1, 1, 0, 0, 0, 0, 1, 1, 1, 0, 1, 1, 1, 1,\n",
       "       1, 0, 0, 0, 1, 0, 1, 0, 0, 0, 1, 1, 1, 0, 1, 0, 1, 0, 0, 0, 1, 0,\n",
       "       0, 1, 1, 1, 1, 0, 0, 1, 0, 1, 1, 1, 1, 1, 0, 0, 1, 0, 0, 1, 1, 0,\n",
       "       0, 1, 0, 1, 0, 1, 0, 0, 1, 0, 1, 1, 1, 0, 0, 0, 1, 1, 0, 0, 0, 0,\n",
       "       0, 1, 1, 0, 0, 1, 1, 0, 0, 0])"
      ]
     },
     "execution_count": 7,
     "metadata": {},
     "output_type": "execute_result"
    }
   ],
   "source": [
    "y"
   ]
  },
  {
   "cell_type": "code",
   "execution_count": 9,
   "id": "4e060dad-2daa-45ff-8965-132f12b82226",
   "metadata": {},
   "outputs": [],
   "source": [
    "# Dividing dataset into Training set (X_train, y_train) and Testing set (X_test, y_test)\n",
    "X_train, X_test, y_train, y_test = train_test_split(X,y, test_size = 0.2, random_state=42)"
   ]
  },
  {
   "cell_type": "code",
   "execution_count": 11,
   "id": "15a031c0-6247-49fb-98d3-2598b5a8d1d2",
   "metadata": {},
   "outputs": [],
   "source": [
    "# Model training \n",
    "# Step-1: Create Classifier Instance\n",
    "model = RandomForestClassifier(random_state=42)\n",
    "\n",
    "# Step 2: Fit the model using X_train, y_train\n",
    "model.fit(X_train, y_train)\n",
    "\n",
    "#Step 3: Predict the output of the model using X_test and store into y_pred\n",
    "y_pred = model.predict(X_test)"
   ]
  },
  {
   "cell_type": "code",
   "execution_count": 13,
   "id": "484d805a-cfdb-4cee-bbe0-5bc5f81c929d",
   "metadata": {},
   "outputs": [
    {
     "name": "stdout",
     "output_type": "stream",
     "text": [
      "Accuracy: 0.88\n"
     ]
    }
   ],
   "source": [
    "# Calculate Accuracy using Accuracy Metrics\n",
    "accuracy = accuracy_score(y_test, y_pred)\n",
    "#accuracy\n",
    "print(f\"Accuracy: {accuracy:.2f}\")"
   ]
  },
  {
   "cell_type": "code",
   "execution_count": null,
   "id": "c772ae3b-a738-44bc-9bbb-7fa69ca0df5d",
   "metadata": {},
   "outputs": [],
   "source": [
    "Actual Positives - positives in y_test\n",
    "True Positives - model has predicted positive and its positive in y_test\n",
    "Predicted Positives - predicted by model\n",
    "\n",
    "TP, FP, TN, FN"
   ]
  },
  {
   "cell_type": "markdown",
   "id": "85b0a4f6-3a20-4f01-8f99-68a89c6f5e78",
   "metadata": {},
   "source": [
    "### Precision -> TP/TP +FP\n",
    "- Precision: Focuses on the Proportion of True Positives among all Predicted Positives"
   ]
  },
  {
   "cell_type": "code",
   "execution_count": 16,
   "id": "002c67e0-2099-4945-86a8-9313f59bbbb0",
   "metadata": {},
   "outputs": [
    {
     "name": "stdout",
     "output_type": "stream",
     "text": [
      "Precision: 0.91\n"
     ]
    }
   ],
   "source": [
    "from sklearn.metrics import precision_score\n",
    "#Calculate Precision Score\n",
    "precision = precision_score(y_test, y_pred)\n",
    "#precision\n",
    "print(f\"Precision: {precision:.2f}\")"
   ]
  },
  {
   "cell_type": "markdown",
   "id": "4f6cb125-ba0a-4c7d-a81d-cfbae1c8e911",
   "metadata": {},
   "source": [
    "### Recall -> TP/TP + FP\n",
    "- Definition: Focuses on proportion of True positives captured among all actual Positives"
   ]
  },
  {
   "cell_type": "code",
   "execution_count": 18,
   "id": "0e86f67d-54ca-40dd-b48b-03420a3cfdf2",
   "metadata": {},
   "outputs": [
    {
     "name": "stdout",
     "output_type": "stream",
     "text": [
      "Recall: 0.86\n"
     ]
    }
   ],
   "source": [
    "from sklearn.metrics import recall_score\n",
    "# Calculate Recall Score \n",
    "recall = recall_score(y_test, y_pred)\n",
    "#precision\n",
    "print(f\"Recall: {recall:.2f}\")"
   ]
  },
  {
   "cell_type": "markdown",
   "id": "3fa3bfb2-72a7-4d4b-b68d-27d184e1406e",
   "metadata": {},
   "source": [
    "### F1-Score -> TP/TP + FP\n",
    "- Definition: Harmonic Mean of Precision and Recall"
   ]
  },
  {
   "cell_type": "code",
   "execution_count": 20,
   "id": "36004e5f-1448-4ceb-b5bd-cee7be28b414",
   "metadata": {},
   "outputs": [
    {
     "name": "stdout",
     "output_type": "stream",
     "text": [
      "f1: 0.89\n"
     ]
    }
   ],
   "source": [
    "from sklearn.metrics import f1_score\n",
    "f1 = f1_score(y_test, y_pred)\n",
    "#f1\n",
    "print(f\"f1: {f1:.2f}\")"
   ]
  },
  {
   "attachments": {
    "8fbe8b7b-8f77-4239-96a0-eb2f01fd6831.png": {
     "image/png": "[encoded data removed]"
    }
   },
   "cell_type": "markdown",
   "id": "7d19e764-ff53-45f0-819e-30f5c0097985",
   "metadata": {},
   "source": [
    "### Confusion Matrix\n",
    "\n",
    "![image.png](attachment:8fbe8b7b-8f77-4239-96a0-eb2f01fd6831.png)"
   ]
  },
  {
   "cell_type": "markdown",
   "id": "66694b12-befe-4eb9-8858-e132f7167053",
   "metadata": {},
   "source": [
    "Accuracy -> The ratio of correctly predicted instances to the total instances\n",
    "Accuracy = TP+TN/TP+FP+TN+FN \n",
    "\n",
    "Precision -> Focuses on the Proportion of True Postives among all Predicted Positives\n",
    "Precision = TP/TP+FP\n",
    "\n",
    "Recall -> Focuses on the Proportion of True Positives captured among all actual positives\n",
    "Recall = TP/TP+FP\n",
    "\n",
    "F1 Score = 2 * (Precision * Recall/Precision + Recall)"
   ]
  },
  {
   "cell_type": "markdown",
   "id": "b715157f-fd6c-419e-a15a-4ec816fafaf8",
   "metadata": {},
   "source": [
    "### ROC -AUC\n",
    "- Definition : Measures the trade- off between True Positive Rate (TPR) and False Positive Rate (FPR)"
   ]
  },
  {
   "cell_type": "code",
   "execution_count": 21,
   "id": "7049478a-c4b6-42f6-b8a8-e98c33408325",
   "metadata": {},
   "outputs": [],
   "source": [
    "from sklearn.metrics import roc_auc_score"
   ]
  },
  {
   "cell_type": "code",
   "execution_count": 25,
   "id": "6f26a059-89f5-42fc-a367-84c30443bca4",
   "metadata": {},
   "outputs": [
    {
     "name": "stdout",
     "output_type": "stream",
     "text": [
      "ROC_AUC: 0.951969\n"
     ]
    }
   ],
   "source": [
    "# Probability prediction\n",
    "y_prob = model.predict_proba(X_test)[:, 1]\n",
    "roc_auc = roc_auc_score(y_test, y_prob)\n",
    "print(f\"ROC_AUC: {roc_auc:2f}\")"
   ]
  },
  {
   "cell_type": "markdown",
   "id": "8fceb5de-71f7-4054-a04c-0a7924f2eda8",
   "metadata": {},
   "source": [
    "### Regression Metrics"
   ]
  },
  {
   "cell_type": "markdown",
   "id": "a02d38c8-d717-494d-baae-78383d10670c",
   "metadata": {},
   "source": [
    "### Mean Absolute Error (MAE) \n",
    "- Measures the average magnitude of errors without considering their direction.\n"
   ]
  },
  {
   "cell_type": "code",
   "execution_count": 28,
   "id": "9184c423-5522-4d22-b5af-03c06c235486",
   "metadata": {},
   "outputs": [],
   "source": [
    "from sklearn.metrics import mean_absolute_error\n",
    "from sklearn.linear_model import LinearRegression\n",
    "from sklearn.datasets import make_regression"
   ]
  },
  {
   "cell_type": "code",
   "execution_count": 29,
   "id": "2dca8b19-598e-4384-9ef2-ed4990168e6f",
   "metadata": {},
   "outputs": [],
   "source": [
    "# Synthetic Data\n",
    "X, y = make_classification(n_samples=1000, n_features=10, random_state=42)\n",
    "X_train, X_test, y_train, y_test = train_test_split(X,y, test_size = 0.2, random_state=42)"
   ]
  },
  {
   "cell_type": "code",
   "execution_count": 31,
   "id": "9ccf6121-3609-4296-8a59-07bbfe2be23e",
   "metadata": {},
   "outputs": [],
   "source": [
    "# Model Training\n",
    "model = LinearRegression()\n",
    "model.fit(X_train, y_train)\n",
    "y_pred = model.predict(X_test)"
   ]
  },
  {
   "cell_type": "code",
   "execution_count": 32,
   "id": "3d5e698c-49d2-4032-908b-1737428b1165",
   "metadata": {},
   "outputs": [],
   "source": [
    "mae = mean_absolute_error(y_test, y_pred)"
   ]
  },
  {
   "cell_type": "code",
   "execution_count": 34,
   "id": "3961b8ac-3b20-46d7-95e6-e7fdc7b91a51",
   "metadata": {},
   "outputs": [
    {
     "name": "stdout",
     "output_type": "stream",
     "text": [
      "Mean Absolute Error: 0.30\n"
     ]
    }
   ],
   "source": [
    "#mae\n",
    "print (f\"Mean Absolute Error: {mae:.2f}\")"
   ]
  },
  {
   "cell_type": "code",
   "execution_count": 35,
   "id": "4692226a-79a5-4b4b-afa8-73599ea9b7aa",
   "metadata": {},
   "outputs": [
    {
     "name": "stdout",
     "output_type": "stream",
     "text": [
      "Mean Squared Error: 0.14\n",
      "Root Mean Squared Error: 0.30\n"
     ]
    }
   ],
   "source": [
    "from sklearn.metrics import mean_squared_error\n",
    "import numpy as np\n",
    "\n",
    "# MSE AND RMSE\n",
    "mse = mean_squared_error (y_test, y_pred)\n",
    "rmse = np.sqrt(mse)\n",
    "\n",
    "print (f\"Mean Squared Error: {mse:.2f}\")\n",
    "print (f\"Root Mean Squared Error: {mae:.2f}\")"
   ]
  },
  {
   "cell_type": "code",
   "execution_count": 36,
   "id": "041bed50-a2d3-4bfe-9914-c5ece63eef76",
   "metadata": {},
   "outputs": [
    {
     "name": "stdout",
     "output_type": "stream",
     "text": [
      "r2: 0.45\n"
     ]
    }
   ],
   "source": [
    "from sklearn.metrics import r2_score\n",
    "r2 = r2_score(y_test, y_pred)\n",
    "print (f\"r2: {r2:.2f}\")"
   ]
  },
  {
   "cell_type": "markdown",
   "id": "be7f0e5f-469e-4710-9e9a-859e284fb584",
   "metadata": {},
   "source": [
    "### Cross-Validation Method"
   ]
  },
  {
   "cell_type": "markdown",
   "id": "d7d02fe6-ed17-4668-ac8a-559f92c70f98",
   "metadata": {},
   "source": [
    "## K-Fold Cross Validation"
   ]
  },
  {
   "cell_type": "code",
   "execution_count": 37,
   "id": "f81bf519-134d-47eb-ac58-b1acbb1e1304",
   "metadata": {},
   "outputs": [
    {
     "name": "stdout",
     "output_type": "stream",
     "text": [
      "Accuracy: 0.88\n"
     ]
    }
   ],
   "source": [
    "from sklearn.metrics import accuracy_score\n",
    "from sklearn.datasets import make_classification\n",
    "from sklearn.ensemble import RandomForestClassifier\n",
    "from sklearn.model_selection import train_test_split\n",
    "\n",
    "# Synthetic Data \n",
    "X, y = make_classification(n_samples=1000, n_features=10, random_state=42)\n",
    "X_train, X_test, y_train, y_test = train_test_split(X,y, test_size = 0.2, random_state=42)\n",
    "\n",
    "# Model training \n",
    "model = RandomForestClassifier(random_state=42)\n",
    "model.fit(X_train, y_train)\n",
    "y_pred = model.predict(X_test)\n",
    "\n",
    "# Calculate Accuracy using Accuracy Metrics\n",
    "accuracy = accuracy_score(y_test, y_pred)\n",
    "#accuracy\n",
    "print(f\"Accuracy: {accuracy:.2f}\")"
   ]
  },
  {
   "cell_type": "code",
   "execution_count": 38,
   "id": "7b2ad39c-8531-49b9-ba13-5ee8db869185",
   "metadata": {},
   "outputs": [
    {
     "name": "stdout",
     "output_type": "stream",
     "text": [
      "K-Fold Accuracy Scores: [0.915 0.895 0.915 0.885 0.91 ]\n",
      "Mean Accuracy: 0.90\n"
     ]
    }
   ],
   "source": [
    "from sklearn.model_selection import cross_val_score\n",
    "\n",
    "# K-Fold Cross-Validation\n",
    "scores = cross_val_score(model, X, y, cv=5, scoring = 'accuracy')\n",
    "print (f\"K-Fold Accuracy Scores: {scores}\")\n",
    "print (f\"Mean Accuracy: {scores.mean():.2f}\")"
   ]
  },
  {
   "cell_type": "code",
   "execution_count": null,
   "id": "70af0b64-490c-46ef-bc8c-39ce55e786a8",
   "metadata": {},
   "outputs": [],
   "source": []
  }
 ],
 "metadata": {
  "kernelspec": {
   "display_name": "Python 3 (ipykernel)",
   "language": "python",
   "name": "python3"
  },
  "language_info": {
   "codemirror_mode": {
    "name": "ipython",
    "version": 3
   },
   "file_extension": ".py",
   "mimetype": "text/x-python",
   "name": "python",
   "nbconvert_exporter": "python",
   "pygments_lexer": "ipython3",
   "version": "3.12.7"
  }
 },
 "nbformat": 4,
 "nbformat_minor": 5
}
